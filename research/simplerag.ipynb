{
 "cells": [
  {
   "cell_type": "code",
   "execution_count": 31,
   "metadata": {},
   "outputs": [],
   "source": [
    "from langchain_community.document_loaders.csv_loader import CSVLoader\n",
    "import os\n",
    "from dotenv import load_dotenv\n",
    "from langchain.chains import RetrievalQA\n",
    "from langchain.text_splitter import RecursiveCharacterTextSplitter\n",
    "from langchain.embeddings import HuggingFaceBgeEmbeddings\n",
    "from langchain_community import embeddings \n",
    "# from langchain_community.vectorstores import pinecone\n",
    "from pinecone import Pinecone\n",
    "from langchain_community.chat_models import ChatOllama\n",
    "from langchain_community.llms import Ollama\n",
    "from langchain_core.prompts import ChatPromptTemplate\n",
    "from langchain.chains import create_retrieval_chain\n",
    "from langchain.chains.combine_documents import create_stuff_documents_chain"
   ]
  },
  {
   "cell_type": "code",
   "execution_count": 32,
   "metadata": {},
   "outputs": [],
   "source": [
    "## Extract data from CSV file\n",
    "\n",
    "def load_file(path):\n",
    "    loader = CSVLoader(file_path=path, encoding=\"utf-8\")\n",
    "    data = loader.load()\n",
    "    return data"
   ]
  },
  {
   "cell_type": "code",
   "execution_count": 33,
   "metadata": {},
   "outputs": [
    {
     "data": {
      "text/plain": [
       "[Document(page_content='AppID: 1071100\\nName: Boom 3D\\nAbout the game: Boom 3D is a pro audio enhancement app that has been designed to play all your media content with incredible 3D effects on ANY headphones /speakers, from any player, any media, any streaming services. Specially designed for gaming, our multi-channel 3D surround brings unmatched clarity to every game interaction. From the muted footsteps of your opponent to the roar of a dragon, Boom 3D renders the detail in all its crispness and clarity, leading you to victory! With Boom, 3D gaming becomes a truly immersive experience.\\nRelease date: Jun 19, 2019\\nHeader image: https://cdn.akamai.steamstatic.com/steam/apps/1071100/header.jpg?t=1604570134\\nWebsite: \\nGenres: Audio Production,Utilities\\nTags: Utilities,Audio Production,VR,3D', metadata={'source': '../data_set/finalData.csv', 'row': 0}),\n",
       " Document(page_content=\"AppID: 1055010\\nName: Energy Engine PC Live Wallpaper\\nAbout the game: Energy Engine PC Live Wallpaper Manage the energy of your wallpaper. WINDOWS 10 ONLY ! Perfect for desktop PC. Custom PC? Custom your wallpaper with our engine, Our new project Energy Engine is giving many options to release the energy of your wallpaper. Many settings will allow you to create your own unique wallpaper. Three categories contain ready-made presets that can be modified. Many options will allow you to adjust the wallpaper to your taste and PC set. Main features: Interactive simulation - molecules that react to the mouse movement and clicking. Ready presets - presets divided into 3 categories. More presets and the updates. Many editing options - you can change almost every object. Clock - adjust your watch to the screen. Own text - add your own text to the wallpaper. Game Mode - will pause wallpaper when you need 100% power for your games. Optimization - reduced equipment requirements. Optimized code created for mobile devices. Multi-Language - the menu includes 10 languages. and more, small little features. !Pinned. Small window problem? Please, disable 'Contrast Mode' in Windows personalization settings. Performance: Productivity is our priority. The wallpaper has been adjusted to the best performance. This project has many options for the number of particles that affect performance. Everyone will match something for themselves. The project was created for desktops with a dedicated graphics card. Multi, Wide, 4K screen users: The wallpaper will run at a maximum resolution. Higher resolution can have a slight effect on your computer's performance. However, I have a 4K screen and the performance drop is insignificant. Wallpaper support multi-screen and include FOV camera sliders, so you set everything for even ultra widescreen setup. Game Mode Game Mode will pause the wallpaper, giving you 100% power to play games or for demanding renderings. In the background will be a menu from which you can bring back this wallpaper on the screen. Please check out our 'Community HUB' for more details. Support We are a small team that wants to create interactive applications that diversify known Windows wallpapers. We try to make each project unique, introducing something new on the screen. Each support is valuable for us. Ratings and comments help move forward and create even better interactive wallpapers. Energy Engine PC Live Wallpaper is a project that was created thanks to your help. Thank you very much. Every help is very important for us. Thank you! If you notice any problems, please check our 'Community HUB' or contact directly. I'm almost 25h to your disposition ;) Thanks for your support! 3DM Team\\nRelease date: May 10, 2019\\nHeader image: https://cdn.akamai.steamstatic.com/steam/apps/1055010/header.jpg?t=1644363494\\nWebsite: http://3dmgroup.co.uk/\\nGenres: Design & Illustration,Utilities\\nTags: Design & Illustration,Utilities,Software,Simulation,Atmospheric,Beautiful,Experimental\", metadata={'source': '../data_set/finalData.csv', 'row': 1}),\n",
       " Document(page_content='AppID: 1195830\\nName: 副作用之瞳-Tlicolity Eyes-\\nAbout the game: 《副作用之瞳 (Tlicolity Eyes)》是日本女性向遊戲廠商Otomate於2018年6月到2018年8月發售的系列甜蜜戀愛視覺互動系列小說。《命運石之門》漫畫作者Sarachi Yomi (さらちよみ)擔任作畫，小野友樹、前野智昭、柿原徹也、梅原裕一郎、松岡禎丞、木村良平擔任配音。本次釋出的中文版由全新引擎重製，帶給你更好的遊玩體驗。內建了簡體中文、繁體中文與日語多個語言選項並支援在遊戲中進行切換。 ――這只是，一點點關於未來的故事。 約3成的人群被稱為「能力者」，擁有不可思議的力量。 據說，能力者們大多數活躍在閃閃發光的演藝圈中。 故事中的女主角，東地三姐妹也是能力者，各自在演藝圈中奮鬥。 她們的共同能力是【使對方的能力暫時提高】這樣非常方便的能力。 ……但是，這個能力存在一個祕密 那就是，將被施加了能力的對方變成【自己的俘虜的副作用】―― 【有趣的故事】就此發生！ 演藝圈x副作用x三角關係！ 這種心跳加速的感覺是副作用嗎？\\u3000又或者是――。 Vol.1【藝人×新人女演員×演藝事務所社長】 就讀的大學成為了電影的拍攝現場， 與朋友一起作為臨時演員參加拍攝的三女・櫻。 但是當天，女主演沒有到場，現場大混亂！ 女主演與悄悄交往的男性私奔而行蹤不明……。 當場被演藝事務所的社長・小野澤正人發現， 櫻居然被替代，選為主角了！ 據說是現在很受歡迎的年輕藝人・翠川智裕的對手戲角色 以意想不到的形式作為女演員出道……！？ Vol.2【模特×攝影師×攝影師前輩】 次女・棗，作為攝影師前輩・望月要介的助理而非常努力的工作。 在和模特・仙波亙一起拍攝的時候， 令人意外的是，決定拍攝他的棗， 無法拍攝出仙波亙的魅力……。 面對情緒低落的棗，亙提出了一個令人意想不到的提案！ 「為了拍出有魅力的照片，首先應該瞭解如何被拍攝」 那是與亙的3個月同居生活！ 為了快速成長為攝影師，棗決定與他同居 但是亙的房間旁邊居然住著要介……！？ Vol.3【偶像×經紀人×偶像】 長女・葵是人氣偶像・榊原洸的經紀人。 被稍稍自大的洸指手畫腳，每天為了工作來回奔走。 某天，葵幫助了在音樂節目中一起出演的偽娘偶像・悠後， 被他看中了！ 說想與洸成立組合的悠， 實際上兩人是雙胞胎兄弟！ 兩人組成了期間限定組合【雙子星】 對洸愈加不滿的悠說出了，要把葵「作為自己一個人的經紀人」的話……！？\\nRelease date: Jun 29, 2021\\nHeader image: https://cdn.akamai.steamstatic.com/steam/apps/1195830/header.jpg?t=1626794366\\nWebsite: https://www.joymoe.com/triangle/tlicolity/\\nGenres: Adventure,Casual,Free to Play,RPG\\nTags: Interactive Fiction,Visual Novel,Word Game,Dating Sim,JRPG,Female Protagonist,RPG,2D,Text-Based,Otome,Third Person,Cute,Comic Book,Romance,Funny,Story Rich,Multiple Endings,Casual,Pixel Graphics,Anime', metadata={'source': '../data_set/finalData.csv', 'row': 2}),\n",
       " Document(page_content='AppID: 707590\\nName: Defense Clicker\\nAbout the game: Defense Clicker is an clicker game which will be soon F2P, with an tower defense theme and a few twists which make it very unique. You have to build an defense line with towers and upgrade them to stay alive as long as possible. when you die the map resets but you get a few special points depending on how long you survived. With this points you can upgrade the power of your towers and many other things to stay longer alive. After a specific count of kills you can evolve to get stronger and beat more waves. Features: - Build towers - Upgrade towers - Upgrade several skills - several gamemodes - Weather System - Day Night System - Monster Stat Changes depending on Day/Night and Weather System - Achievements - Heroes - Pets - many more BUILD towers: - Build several towers to defend your city against the monsters which want to destroy it Upgrade towers: - Upgrade your towers to make more damage, get higher possible towerlevels and stay longer alive Upgrade several skills: - reset your game status to get Prime Points to upgrade your baselive, towerbasdamage, gold income and several other things. Several gamemodes: - Normal mode and rage mode, fusable monsterlife and changable monster spawn difficulty Weather system: - randomly it starts to snow or rain ingame which changes at some montsers the hp, speed..... Day-/Night system: - The day night system changes slightly the darkness of the game Reset and Evolution sytem: - Reset your game to get the locked Prime Points with which you can earn Prime points to increase some reset resistant skills. - If progress starts to get to slow make an evolutuion and reset the whole game (except evo skills) and buy evo to get much stronger. Highscores, Achievements and more: - Get Achievements for playing the game and beat the highscores of the other players\\nRelease date: Oct 31, 2017\\nHeader image: https://cdn.akamai.steamstatic.com/steam/apps/707590/header.jpg?t=1553883631\\nWebsite: \\nGenres: Casual,Strategy,Early Access\\nTags: Casual,Strategy,Early Access,Tower Defense,Clicker', metadata={'source': '../data_set/finalData.csv', 'row': 3}),\n",
       " Document(page_content='AppID: 404580\\nName: Relive\\nAbout the game: Relive is a game about cardiopulmonary resuscitation, but it is also an adventure game. The main purpose is to increase the awareness about this topic and push people, especially teenagers and young adults, to take a CPR classes and be prepared to intervene in case of need. While the topic is serious, we tried to create a fun and entertaining game, a SCI-FI opera where players can enjoy their gaming experience while the CPR concept slips through the game. To move forward in the story and complete successfully Relive, you will need to learn the bases of CPR, in an interesting and non-invasive way. To keep the CPR skills razor sharp a tournament mode encourages group play. Family, schools and friends will be able to organize fast and fun CPR challenges and see who will be able to beat the best score. Why CPR? In Europe every day 1.000 people die of cardiac arrest. If immediate CPR is performed, the chances of survival remarkably increase. In more than 70% of instances, cardiac arrest is witnessed and CPR could be initiated by bystanders. As of today, in Europe only in 15% of cases witnesses perform CPR (European average). Taking a CPR class is the best way to rise this 15% of bystanders and save lives with no additional risk. Is Relive really free? Yes, Relive is completely free. The development of this game was made possible thanks to Future of Health Award, which purpose is to “bring serious gaming and healthcare together in order to contribute to more advanced healthcare across Europe“. Project Coordinator Federico Semeraro, Italian Resuscitation Council, Bologna Scientific Supervision - Italian Resuscitation Council, Bologna Erga Cerchiari, Past-President Giuseppe Ristagno, Scientific Committee Tracking engine - Istituto di Tecnologie della Comunicazione, dell’Informazione e della Percezione, Scuola Superiore Sant’Anna, Pisa Antonio Frisoli, Associate Professor Claudio Loconsole, Post-Doc Research Fellow Fabio Stroppa, Scholarship Holder Nicola Mastronicola, Scholarship Holder Game developement - Studio Evil Dutch translation - Kirsten Eijkelenboom Relive team is the winner of the Future of Health Award 2012. The award is a joint initiative of CZ healthcare insurance and Games for Health Europe\\nRelease date: Oct 15, 2015\\nHeader image: https://cdn.akamai.steamstatic.com/steam/apps/404580/header.jpg?t=1478100911\\nWebsite: http://relivegame.com/\\nGenres: Adventure,Free to Play,Indie\\nTags: Free to Play,Indie,Adventure', metadata={'source': '../data_set/finalData.csv', 'row': 4})]"
      ]
     },
     "execution_count": 33,
     "metadata": {},
     "output_type": "execute_result"
    }
   ],
   "source": [
    "extracted_data = load_file(r'../data_set/finalData.csv')\n",
    "extracted_data[:5]"
   ]
  },
  {
   "cell_type": "code",
   "execution_count": 34,
   "metadata": {},
   "outputs": [],
   "source": [
    "# Transform data(create chunks)\n",
    "\n",
    "def text_split(extracted_data):\n",
    "    text_splitter = RecursiveCharacterTextSplitter(chunk_size=500, chunk_overlap=20) \n",
    "    text_chunks = text_splitter.split_documents(extracted_data)\n",
    "\n",
    "    return text_chunks"
   ]
  },
  {
   "cell_type": "code",
   "execution_count": 35,
   "metadata": {},
   "outputs": [
    {
     "name": "stdout",
     "output_type": "stream",
     "text": [
      "length of my chinks =  684\n"
     ]
    }
   ],
   "source": [
    "text_chunks = text_split(extracted_data)\n",
    "print(\"length of my chinks = \",len(text_chunks))"
   ]
  },
  {
   "cell_type": "code",
   "execution_count": 36,
   "metadata": {},
   "outputs": [],
   "source": [
    "def download_hugging_face_embedding():\n",
    "    model_name = \"BAAI/bge-large-en\"\n",
    "    encode_kwargs = {'normalize_embeddings': True} \n",
    "\n",
    "    embedding = HuggingFaceBgeEmbeddings(\n",
    "        model_name=model_name,\n",
    "        encode_kwargs=encode_kwargs\n",
    "    )\n",
    "\n",
    "    return embedding"
   ]
  },
  {
   "cell_type": "code",
   "execution_count": 37,
   "metadata": {},
   "outputs": [],
   "source": [
    "embeddings = download_hugging_face_embedding()"
   ]
  },
  {
   "cell_type": "code",
   "execution_count": 38,
   "metadata": {},
   "outputs": [
    {
     "data": {
      "text/plain": [
       "HuggingFaceBgeEmbeddings(client=SentenceTransformer(\n",
       "  (0): Transformer({'max_seq_length': 512, 'do_lower_case': True}) with Transformer model: BertModel \n",
       "  (1): Pooling({'word_embedding_dimension': 1024, 'pooling_mode_cls_token': True, 'pooling_mode_mean_tokens': False, 'pooling_mode_max_tokens': False, 'pooling_mode_mean_sqrt_len_tokens': False})\n",
       "  (2): Normalize()\n",
       "), model_name='BAAI/bge-large-en', cache_folder=None, model_kwargs={}, encode_kwargs={'normalize_embeddings': True}, query_instruction='Represent this question for searching relevant passages: ', embed_instruction='')"
      ]
     },
     "execution_count": 38,
     "metadata": {},
     "output_type": "execute_result"
    }
   ],
   "source": [
    "embeddings"
   ]
  },
  {
   "cell_type": "code",
   "execution_count": 39,
   "metadata": {},
   "outputs": [],
   "source": [
    "query_result = embeddings.embed_query(\"hello World\")"
   ]
  },
  {
   "cell_type": "code",
   "execution_count": 12,
   "metadata": {},
   "outputs": [
    {
     "name": "stdout",
     "output_type": "stream",
     "text": [
      "len =  1024\n"
     ]
    }
   ],
   "source": [
    "print(\"len = \",len(query_result))"
   ]
  },
  {
   "cell_type": "code",
   "execution_count": 24,
   "metadata": {},
   "outputs": [],
   "source": [
    "PINECONE_API_KEY = \"1b2fb2fd-7a91-442c-9930-41f03023f1fb\"\n",
    "host_name = \"https://gmaerecommendationindex-csbuh5e.svc.aped-4627-b74a.pinecone.io\""
   ]
  },
  {
   "cell_type": "code",
   "execution_count": 18,
   "metadata": {},
   "outputs": [],
   "source": [
    "vector=[embeddings.embed_query(t.page_content) for t in text_chunks]"
   ]
  },
  {
   "cell_type": "code",
   "execution_count": 19,
   "metadata": {},
   "outputs": [],
   "source": [
    "vectors=[]\n",
    "for i,vec in enumerate(vector):\n",
    "    vectors.append({'id':str(i),'values':vec,\"metadata\": {'text':text_chunks[i].page_content}})"
   ]
  },
  {
   "cell_type": "code",
   "execution_count": 20,
   "metadata": {},
   "outputs": [],
   "source": [
    "import itertools\n",
    "from pinecone import Pinecone\n",
    "\n",
    "pc = Pinecone(api_key=PINECONE_API_KEY, pool_threads=30)\n",
    "index = pc.Index(\"gamerecommendationsystem\")\n",
    "\n",
    "def chunks(iterable, batch_size=100):\n",
    "    \"\"\"A helper function to break an iterable into chunks of size batch_size.\"\"\"\n",
    "    it = iter(iterable)\n",
    "    chunk = tuple(itertools.islice(it, batch_size))\n",
    "    while chunk:\n",
    "        yield chunk\n",
    "        chunk = tuple(itertools.islice(it, batch_size))\n",
    "\n",
    "\n",
    "\n",
    "with pc.Index('gamerecommendationsystem', pool_threads=30) as index:\n",
    "\n",
    "    async_results = [\n",
    "        index.upsert(vectors=ids_vectors_chunk, async_req=True)\n",
    "        for ids_vectors_chunk in chunks(vectors, batch_size=100)\n",
    "    ]\n",
    "    [async_result.get() for async_result in async_results]"
   ]
  },
  {
   "cell_type": "code",
   "execution_count": 49,
   "metadata": {},
   "outputs": [],
   "source": [
    "text=\"Game with piece\""
   ]
  },
  {
   "cell_type": "code",
   "execution_count": 41,
   "metadata": {},
   "outputs": [],
   "source": [
    "pc = Pinecone(api_key=PINECONE_API_KEY, pool_threads=30)\n",
    "index = pc.Index(\"gamerecommendationsystem\")"
   ]
  },
  {
   "cell_type": "code",
   "execution_count": 51,
   "metadata": {},
   "outputs": [],
   "source": [
    "def find_similarity(text):\n",
    "    query=embeddings.embed_query(text)\n",
    "    response=index.query(vector=query,top_k=3,include_values=True,include_metadata=True)\n",
    "    print(type(response))\n",
    "    results=response.matches\n",
    "    matched_data=[]\n",
    "    for result in results:\n",
    "        text=result.metadata['text']\n",
    "        matched_data.append(text)\n",
    "    return matched_data"
   ]
  },
  {
   "cell_type": "code",
   "execution_count": 53,
   "metadata": {},
   "outputs": [
    {
     "name": "stdout",
     "output_type": "stream",
     "text": [
      "<class 'pinecone.core.client.model.query_response.QueryResponse'>\n"
     ]
    },
    {
     "data": {
      "text/plain": [
       "['heroic character by winning head to head battles. Or play classic match 3 in quick play mode. Explore the expansive kingdom as you experience a puzzle game like nothing you have played before. Embark on an epic single-player campaign comprising more than 150 challenging quests. Jump into this exciting puzzle game and outmatch your opponent in Quick-play mode. Build your empire as you capture cities, build castles and gain a party of companions that will aid you in battle. Earn money with each',\n",
       " \"map to find clues and then integrate them into new clues, so as to push forward the plot. Original BGM: The only BGM in this game was composed by independent musician TetraCalyx, which consists of five voice parts, namely P, R, I, C and E. They will be unlocked one by one in the new game+ by solving puzzles. An updated decoder is recommended for a better experience, since there're 11 video performances to cover the whole story. 【translator】 三月疯兔子 【German translator】 Stealth （Thank you very much\",\n",
       " '* Get ready to discover a new formula of innovative gameplay!']"
      ]
     },
     "execution_count": 53,
     "metadata": {},
     "output_type": "execute_result"
    }
   ],
   "source": [
    "find_similarity(text)"
   ]
  },
  {
   "cell_type": "code",
   "execution_count": 24,
   "metadata": {},
   "outputs": [
    {
     "data": {
      "text/plain": [
       "Ollama()"
      ]
     },
     "execution_count": 24,
     "metadata": {},
     "output_type": "execute_result"
    }
   ],
   "source": [
    "## load ollama LAMA2 llm mODEL\n",
    "llm = Ollama(model=\"llama2\")\n",
    "llm"
   ]
  },
  {
   "cell_type": "code",
   "execution_count": 25,
   "metadata": {},
   "outputs": [],
   "source": [
    "limit = 3750\n",
    "\n",
    "import time\n",
    "conversation_history = []\n",
    "def retrieve(query):\n",
    "    vector=embeddings.embed_query(query)\n",
    "    # get relevant contexts\n",
    "    contexts = []\n",
    "    for message in conversation_history:\n",
    "        contexts.append(f\"{message['role'].capitalize()}: {message['content']}\\n\")\n",
    "    time_waited = 0\n",
    "    while (len(contexts) < 3 and time_waited < 60 * 12):\n",
    "        res=index.query(vector=vector,top_k=3,include_values=True,include_metadata=True)\n",
    "        contexts = contexts + [\n",
    "            x['metadata']['text'] for x in res['matches']\n",
    "        ]\n",
    "        print(f\"Retrieved {len(contexts)} contexts, sleeping for 15 seconds...\")\n",
    "        time.sleep(10)\n",
    "        time_waited += 15\n",
    "\n",
    "    if time_waited >= 60 * 12:\n",
    "        print(\"Timed out waiting for contexts to be retrieved.\")\n",
    "        contexts = [\"No contexts retrieved. Try to answer the question yourself!\"]\n",
    "\n",
    "\n",
    "    # build our prompt with the retrieved contexts included\n",
    "    prompt_start = (\n",
    "        \"You are a helpful assistant for game recommendation. Now use the following pieces of information to answer the user's question.\\\n",
    "        If you don't know the answer, just say that you don't know, don't try to make up an answer.\\n\\n\"+\n",
    "        \"Context:\\n\"\n",
    "    )\n",
    "    prompt_end = (\n",
    "        f\"\\n\\nQuestion: {query}\\n Only return the helpful answer below and nothing else.\\nAnswer:\"\n",
    "    )\n",
    "    # append contexts until hitting limit\n",
    "    for i in range(1, len(contexts)):\n",
    "        if len(\"\\n\\n---\\n\\n\".join(contexts[:i])) >= limit:\n",
    "            prompt = (\n",
    "                prompt_start +\n",
    "                \"\\n\\n---\\n\\n\".join(contexts[:i-1]) +\n",
    "                prompt_end\n",
    "            )\n",
    "            break\n",
    "        elif i == len(contexts)-1:\n",
    "            prompt = (\n",
    "                prompt_start +\n",
    "                \"\\n\\n---\\n\\n\".join(contexts) +\n",
    "                prompt_end\n",
    "            )\n",
    "    conversation_history.append({\"role\": \"user\", \"content\": query})\n",
    "    return prompt\n",
    "\n",
    "\n",
    "def complete(prompt):\n",
    "    # instructions\n",
    "    ## load ollama LAMA2 llm mODEL\n",
    "    llm = Ollama(model=\"llama2\")\n",
    "    return llm(prompt)"
   ]
  },
  {
   "cell_type": "code",
   "execution_count": 26,
   "metadata": {},
   "outputs": [
    {
     "name": "stdout",
     "output_type": "stream",
     "text": [
      "Retrieved 3 contexts, sleeping for 15 seconds...\n"
     ]
    },
    {
     "data": {
      "text/plain": [
       "\"You are a helpful assistant for game recommendation. Now use the following pieces of information to answer the user's question.        If you don't know the answer, just say that you don't know, don't try to make up an answer.\\n\\nContext:\\nfor appearance, clothing and accessories. Fight and earn rare items with showy effects!\\n\\n---\\n\\nAbout the game: 其实早上去年6月份，团队已经解散了。这款游戏定位原本是手游，无版号下改pc也是无奈，其中诸多不足有开发上的原因，也有资本上的压力。我个人还是花了3个月进行余下更新，也是算给玩家一个交代，主要更新了新的武器鞭子，一些怪物，boss，和一些新的装备，以及重做的叠加式装备系统。遗憾的将游戏联机部分阉割，其实联机也并不完善，能顺利游玩的可能性较低，索性删掉，改为纯单机也有为了缓解服务器开支，至此 我只能重新回到个人开发者中 改动内容如下 优化 :优化了运行效率,减少部分情况下的卡顿 新增 :一个新类型武器-鞭子 新增 :一个小型怪物-阴影 新增 :两个中型怪物-魔剑,恶魔盔甲 新增 :三个BOSS 新增 :47个被动道具 新增 :两个职业,御兔使(女性),药剂师(男性) 新增 :图标显示系统,当部分道具满足触发条件时会在头顶显示对应道具的图标 提示触发成功 改动 :道具的升级增加了拾取叠加方式,拾取一个同名物品会对该物品叠加并增加对应等级. 同时道具将不再有等级上限,将无限成长 改动 :对之前游戏中存在的60项被动道具,40把武器进行效果调整,将较弱的效果加强\\n\\n---\\n\\nAbout the game: 上软JoyGear小组采用创新“同步结算”系统，成功加速CCG类游戏节奏，全新剧情、怀旧内容复刻大为充实了单人体验时间，更以挖掘游戏可玩性的Rogue Like式DBG迷宫冒险、以及轰轰烈烈的高手竞标赛对决，打造出《仙剑》系列最新衍生作品！ 同步结算的博弈乐趣与精妙卡牌组合技 作为CCG游戏，要在《九野》世界中征战只需要一套称手卡组，您还可以选择一位最信任的伙伴担任主将出战。 和传统CCG游戏不同，九野采取双方同时布阵后在决战轮进行对决的博弈战术，节奏更快，战略与心理的较量更加激烈！ CCG与DBG结合的谜域玩法 不想与人对决，又要如何证明自己呢？《九野》内置独立的谜域冒险篇章，在这里您需要就地取材，踏入一趟没有回头路的单向历险。 在谜域中您将会收集到专属的卡牌，装备和剧情，而一旦您失败，就得从头开始——挑战一下最高难度的真实结局吧！ 生死相伴，孰为挚爱？ 选择男女主角来开始游戏，在浩劫下寻找救世的希望和自己的身世真相。同时，与旅途中认识的伙伴从陌生到熟悉，最终成为彼此密不可分的另一半。\\n\\nQuestion: Game related to fight\\n Only return the helpful answer below and nothing else.\\nAnswer:\""
      ]
     },
     "execution_count": 26,
     "metadata": {},
     "output_type": "execute_result"
    }
   ],
   "source": [
    "query_with_contexts = retrieve(text)\n",
    "query_with_contexts"
   ]
  },
  {
   "cell_type": "code",
   "execution_count": 27,
   "metadata": {},
   "outputs": [],
   "source": [
    "def chatbot(query):\n",
    "    query_with_contexts = retrieve(query)\n",
    "    # print(query_with_contexts)\n",
    "    return complete(query_with_contexts)"
   ]
  },
  {
   "cell_type": "code",
   "execution_count": 28,
   "metadata": {},
   "outputs": [
    {
     "name": "stdout",
     "output_type": "stream",
     "text": [
      "Retrieved 4 contexts, sleeping for 15 seconds...\n"
     ]
    },
    {
     "data": {
      "text/plain": [
       "'The game you are looking for is \"Nine Sages Rise of the Heroes\" (九野英雄崛起).'"
      ]
     },
     "execution_count": 28,
     "metadata": {},
     "output_type": "execute_result"
    }
   ],
   "source": [
    "chatbot(text)"
   ]
  },
  {
   "cell_type": "code",
   "execution_count": 29,
   "metadata": {},
   "outputs": [
    {
     "data": {
      "text/plain": [
       "'\\nThe Prime Minister of India is the head of government of India. The Prime Minister is responsible for leading the country and making important decisions related to its governance. The current Prime Minister of India is Narendra Modi, who has been in office since May 2014.'"
      ]
     },
     "execution_count": 29,
     "metadata": {},
     "output_type": "execute_result"
    }
   ],
   "source": [
    "llm(\"Who is PM of india\")"
   ]
  },
  {
   "cell_type": "code",
   "execution_count": null,
   "metadata": {},
   "outputs": [],
   "source": []
  }
 ],
 "metadata": {
  "kernelspec": {
   "display_name": "Python 3",
   "language": "python",
   "name": "python3"
  },
  "language_info": {
   "codemirror_mode": {
    "name": "ipython",
    "version": 3
   },
   "file_extension": ".py",
   "mimetype": "text/x-python",
   "name": "python",
   "nbconvert_exporter": "python",
   "pygments_lexer": "ipython3",
   "version": "3.11.1"
  }
 },
 "nbformat": 4,
 "nbformat_minor": 2
}
